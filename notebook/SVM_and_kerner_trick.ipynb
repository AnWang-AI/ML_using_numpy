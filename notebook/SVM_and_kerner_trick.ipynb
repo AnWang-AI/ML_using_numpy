{
 "cells": [
  {
   "cell_type": "markdown",
   "metadata": {},
   "source": [
    "# Problem 3"
   ]
  },
  {
   "cell_type": "code",
   "execution_count": 1,
   "metadata": {},
   "outputs": [],
   "source": [
    "# requirement\n",
    "import numpy as np\n",
    "import matplotlib.pyplot as plt\n",
    "import cvxpy"
   ]
  },
  {
   "cell_type": "markdown",
   "metadata": {},
   "source": [
    "We consider the dual of the support vector machine (L2-regularized hinge loss based binary classifier). The original optimization problem of this classification can be represented as\n",
    "\n",
    "$$\\hat{w}=argmin_{w\\in \\mathbb{R}}(\\sum\\limits_{i=1}^{n}max(0,1-y_i w^T x_i)+\\lambda||w||_2^2)$$\n",
    "\n",
    "where $x_i \\in \\mathbb{R}^d$, $w \\in \\mathbb{R}^d$, $y_i \\in {±1}$, and $\\lambda > 0$ denotes $i$-th input variable, the parameter vector, and the label for $i$-th input data, and a coefficient of the regularization term, respectively."
   ]
  },
  {
   "cell_type": "markdown",
   "metadata": {},
   "source": [
    "Equivalent problem:\n",
    "\n",
    "\\begin{align*}\n",
    "&\\min_{w,\\xi}\\,\\, \\mathbf{1}^T \\mathbf{\\xi} + \\lambda \\mathbf{w}^T \\mathbf{w}\\\\\n",
    "&s.t.\\quad\n",
    "\\begin{cases}\n",
    "\\xi_i \\geq 1-y_i \\mathbf{w}^T \\mathbf{x_i} & (i=1,2,3,\\cdots,n)\\\\\n",
    "\\mathbf{\\xi} \\geq 0\n",
    "\\end{cases}\n",
    "\\end{align*}\n",
    "\n",
    "Scaling by $C = \\frac{1}{2\\lambda}>0$,\n",
    "\n",
    "\\begin{align*}\n",
    "&\\min_{w,\\xi}\\,\\, C \\mathbf{1}^T \\mathbf{\\xi} + \\frac{1}{2} \\mathbf{w}^T\\mathbf{w}\\\\\n",
    "&s.t.\\quad\n",
    "\\begin{cases}\n",
    "1-y_i \\mathbf{w}^T \\mathbf{x_i}-\\xi_i \\leq 0 & (i=1,2,3,\\cdots,n)\\\\\n",
    "-\\mathbf{\\xi} \\leq 0\n",
    "\\end{cases}\n",
    "\\end{align*}"
   ]
  },
  {
   "cell_type": "markdown",
   "metadata": {},
   "source": [
    "Lagrange function:\n",
    "$$L(w,\\xi,\\alpha,\\beta) = \\frac{1}{2} \\mathbf{w}^T\\mathbf{w} + C \\mathbf{1}^T \\mathbf{\\xi} + \\sum\\limits_{i=1}^{n}\\alpha_i(1-y_i w^T x_i-\\xi_i)-\\beta^T \\xi$$"
   ]
  },
  {
   "cell_type": "markdown",
   "metadata": {},
   "source": [
    "KKT Condition:\n",
    "\n",
    "\\begin{align*}\n",
    "&\\frac{\\partial L}{\\partial w} = w - \\sum\\limits_{i=1}^{n}\\alpha_i y_i x_i =0 \\\\\n",
    "&\\frac{\\partial L}{\\partial \\xi} = C \\mathbf{1} - \\alpha - \\beta =0\\\\\n",
    "&1-y_i w^T w - \\xi_i \\leq 0 & (i=1,2,3,\\cdots,n) \\\\\n",
    "&-\\xi \\leq 0\\\\\n",
    "&\\alpha_i (1-y_i w^T w - \\xi_i) = 0 & (i=1,2,3,\\cdots,n) \\\\\n",
    "&-\\beta_i \\xi_ i = 0 & (i=1,2,3,\\cdots,n) \\\\\n",
    "&\\alpha \\geq 0 \\\\\n",
    "&\\beta \\geq 0\n",
    "\\end{align*}"
   ]
  },
  {
   "cell_type": "markdown",
   "metadata": {},
   "source": [
    "Lagrange dual function:\n",
    "$$\\hat{L}(\\alpha,\\beta) = \\inf_{w,\\xi}L(w, \\xi, \\alpha, \\beta)$$\n",
    "thus,\n",
    "\\begin{align*}\n",
    "&\\frac{\\partial L}{\\partial w} = w - \\sum\\limits_{i=1}^{n}\\alpha_i y_i x_i &\\Rightarrow &\\hat{w} = \\sum\\limits_{i=1}^{n}\\alpha_i y_i x_i &\\\\\n",
    "&\\frac{\\partial L}{\\partial \\xi} = C \\mathbf{1} - \\alpha - \\beta &\\Rightarrow &\\alpha = C \\mathbf{1} - \\beta &\\Rightarrow \\alpha \\leq \\frac{1}{2\\lambda}\\\\\n",
    "\\end{align*}\n",
    "thus,\n",
    "\\begin{align*}\n",
    "\\hat{L}(\\alpha,\\beta) &= -\\frac{1}{2}\\sum\\limits_{i=1}^{n}\\sum\\limits_{j=1}^{n}\\alpha_i \\alpha_j y_i y_j x_i^T x_j+\\sum\\limits_{i=1}^{n}\\alpha_i\\\\\n",
    "&= -\\frac{1}{2} \\alpha^T K \\alpha + \\alpha^T \\mathbf{1}\n",
    "\\end{align*}\n",
    "where $K \\in \\mathbb{R}^{n×n}$ denotes a symmetric square matrix, and its $i$-th row and $j$-th column\n",
    "element can be represented by $y_iy_jx_i^T x_j$ ."
   ]
  },
  {
   "cell_type": "markdown",
   "metadata": {},
   "source": [
    "let $\\alpha' = 2\\lambda\\alpha$, \n",
    "\\begin{align*}\n",
    "&\\min_{\\alpha}\\,\\, \\hat{L}(\\alpha,\\beta) = -\\frac{1}{2} \\alpha^T K \\alpha + \\alpha^T \\mathbf{1}\\\\\n",
    "&s.t.\\quad\n",
    "0 \\leq \\alpha' \\leq 1\n",
    "\\end{align*}"
   ]
  },
  {
   "cell_type": "markdown",
   "metadata": {},
   "source": [
    "In addition,\n",
    "$$\\hat{w} = \\frac{1}{2\\lambda}\\sum\\limits_{i=1}^{n}\\alpha_i y_i x_i$$"
   ]
  },
  {
   "cell_type": "code",
   "execution_count": 2,
   "metadata": {},
   "outputs": [],
   "source": [
    "# dataset 4\n",
    "n = 200\n",
    "x_d4 = 3 * (np.random.rand(n, 4) - 0.5)\n",
    "y_d4 = (2 * x_d4[:, 0] - 1 * x_d4[:,1] + 0.5 + 0.5 * np.random.randn(n)) > 0\n",
    "y_d4 = 2 * y_d4 -1"
   ]
  },
  {
   "cell_type": "code",
   "execution_count": 3,
   "metadata": {},
   "outputs": [
    {
     "data": {
      "text/plain": [
       "<matplotlib.legend.Legend at 0x18fbdcbf748>"
      ]
     },
     "execution_count": 3,
     "metadata": {},
     "output_type": "execute_result"
    },
    {
     "data": {
      "image/png": "[encoded data removed]",
      "text/plain": [
       "<Figure size 432x288 with 1 Axes>"
      ]
     },
     "metadata": {},
     "output_type": "display_data"
    }
   ],
   "source": [
    "alpha_hist = []\n",
    "loss_hist = []\n",
    "hingeloss_hist = []\n",
    "\n",
    "x = x_d4\n",
    "y = y_d4\n",
    "\n",
    "n = x.shape[0]\n",
    "\n",
    "num_iter = 50\n",
    "lam = 0.01\n",
    "\n",
    "learning_rate = 0.0001\n",
    "\n",
    "x_hat = np.hstack([x,np.ones([x.shape[0],1])])\n",
    "\n",
    "alpha = np.random.uniform(size = [n, 1])\n",
    "y = y.reshape(-1,1)\n",
    "\n",
    "K = np.zeros([n, n])\n",
    "\n",
    "for i in range(n):\n",
    "    for j in range(n):\n",
    "        K[i, j] = y[i]*y[j]*np.dot(x_hat[i].T, x_hat[j])\n",
    "\n",
    "for t in range(1,num_iter+1):\n",
    "    \n",
    "    alpha_update = alpha - learning_rate * (1/(2*lam) * K.dot(alpha)-1)\n",
    "    alpha = alpha_update/alpha_update.max()\n",
    "    \n",
    "    loss = 1/(4*lam) * np.dot(np.dot(alpha.T, K), alpha) - np.sum(alpha)\n",
    "    loss_hist.append(loss.reshape(-1))\n",
    "    \n",
    "    w = np.zeros([x_hat.shape[1],1])\n",
    "    for i in range(n):\n",
    "        w += 1/(2*lam) * (alpha[i]*y[i]*x_hat[i]).reshape(-1,1)\n",
    "    hingeloss = +1.0/n * np.sum(np.maximum(np.zeros(len(y)),1-y*np.dot(x_hat, w))) + lam * np.sum(w*w)\n",
    "    hingeloss_hist.append(hingeloss)\n",
    "        \n",
    "plt.plot(loss_hist, 'bo-', linewidth=0.5, markersize=1, label='loss')\n",
    "plt.plot(hingeloss_hist, 'ro-', linewidth=0.5, markersize=1, label='hingeloss')\n",
    "plt.legend()"
   ]
  },
  {
   "cell_type": "markdown",
   "metadata": {},
   "source": [
    "# Problem 5"
   ]
  },
  {
   "cell_type": "markdown",
   "metadata": {},
   "source": [
    "### Dataset"
   ]
  },
  {
   "cell_type": "code",
   "execution_count": 11,
   "metadata": {},
   "outputs": [
    {
     "data": {
      "text/plain": [
       "[<matplotlib.lines.Line2D at 0x18fbe178a90>]"
      ]
     },
     "execution_count": 11,
     "metadata": {},
     "output_type": "execute_result"
    },
    {
     "data": {
      "image/png": "[encoded data removed]",
      "text/plain": [
       "<Figure size 432x288 with 1 Axes>"
      ]
     },
     "metadata": {},
     "output_type": "display_data"
    }
   ],
   "source": [
    "# dataset 1\n",
    "np.random.seed(123)\n",
    "n = 100\n",
    "x_d1 = 3 * (np.random.rand(n, 2)-0.5)\n",
    "radius = x_d1[:,0]**2 + x_d1[:,1]**2\n",
    "y_d1 = (radius > 0.7 + 0.1 * np.random.randn(n)) &( radius < 2.2 + 0.1 * np.random.randn(n))\n",
    "y_d1 = 2 * y_d1 -1\n",
    "\n",
    "plt.plot(x_d1[y_d1 < 0, 0],  x_d1[y_d1 < 0, 1], 'bs')\n",
    "plt.plot(x_d1[y_d1 > 0, 0],  x_d1[y_d1 > 0, 1], 'ro')"
   ]
  },
  {
   "cell_type": "markdown",
   "metadata": {},
   "source": [
    "### Method"
   ]
  },
  {
   "cell_type": "code",
   "execution_count": 5,
   "metadata": {},
   "outputs": [],
   "source": [
    "def Gaussian_Kernel(x, L, sigma):\n",
    "    return np.exp(-(np.sum((x - L) ** 2)) / (2 * sigma**2))"
   ]
  },
  {
   "cell_type": "code",
   "execution_count": 14,
   "metadata": {},
   "outputs": [
    {
     "data": {
      "text/plain": [
       "<matplotlib.legend.Legend at 0x18fbdeb4e80>"
      ]
     },
     "execution_count": 14,
     "metadata": {},
     "output_type": "execute_result"
    },
    {
     "data": {
      "image/png": "[encoded data removed]",
      "text/plain": [
       "<Figure size 432x288 with 1 Axes>"
      ]
     },
     "metadata": {},
     "output_type": "display_data"
    }
   ],
   "source": [
    "alpha_hist = []\n",
    "loss_hist = []\n",
    "hingeloss_hist = []\n",
    "\n",
    "x = x_d1\n",
    "y = y_d1\n",
    "\n",
    "n = x.shape[0]\n",
    "\n",
    "num_iter = 50\n",
    "lam = 0.01\n",
    "\n",
    "learning_rate = 0.0001\n",
    "\n",
    "sigma = 1\n",
    "\n",
    "x_hat = np.hstack([x,np.ones([x.shape[0],1])])\n",
    "\n",
    "projected_x = np.zeros([n,n])\n",
    "for i in range(n):\n",
    "    projected_x[i] = [Gaussian_Kernel(x_hat[i], x_hat[j], sigma) for j in range(n)]\n",
    "\n",
    "alpha = np.random.uniform(size = [n, 1])\n",
    "y = y.reshape(-1,1)\n",
    "\n",
    "K = np.zeros([n, n])\n",
    "\n",
    "for i in range(n):\n",
    "    for j in range(n):\n",
    "        K[i, j] = y[i]*y[j]*Gaussian_Kernel(x_hat[i], x_hat[j], sigma)\n",
    "\n",
    "for t in range(1,num_iter+1):\n",
    "    \n",
    "    alpha_update = alpha - learning_rate * (1/(2*lam) * K.dot(alpha)-1)\n",
    "    alpha = alpha_update/alpha_update.max()\n",
    "    \n",
    "    loss = 1/(4*lam) * np.dot(np.dot(alpha.T, K), alpha) - np.sum(alpha)\n",
    "    loss_hist.append(loss.reshape(-1))\n",
    "    \n",
    "    w = np.zeros([n,1])\n",
    "    for i in range(n):\n",
    "        w += 1/(2*lam) * (alpha[i]*y[i]*projected_x[i]).reshape(-1,1)\n",
    "    \n",
    "        \n",
    "plt.plot(loss_hist, 'bo-', linewidth=0.5, markersize=1, label='loss')\n",
    "plt.legend()"
   ]
  },
  {
   "cell_type": "markdown",
   "metadata": {},
   "source": [
    "### Prediction"
   ]
  },
  {
   "cell_type": "code",
   "execution_count": 15,
   "metadata": {},
   "outputs": [
    {
     "data": {
      "text/plain": [
       "[<matplotlib.lines.Line2D at 0x18fbded8f98>]"
      ]
     },
     "execution_count": 15,
     "metadata": {},
     "output_type": "execute_result"
    },
    {
     "data": {
      "image/png": "[encoded data removed]",
      "text/plain": [
       "<Figure size 432x288 with 1 Axes>"
      ]
     },
     "metadata": {},
     "output_type": "display_data"
    }
   ],
   "source": [
    "x = x_d1\n",
    "x_hat = np.hstack([x,np.ones([x.shape[0],1])])\n",
    "\n",
    "y_hat = np.zeros([n])\n",
    "projected_x = np.zeros([n,n])\n",
    "for i in range(n):\n",
    "    projected_x[i] = [Gaussian_Kernel(x_hat[i], x_hat[j], sigma) for j in range(n)]\n",
    "    if  w.reshape(-1).dot(projected_x[i])>0:\n",
    "        y_hat[i] = 1\n",
    "    else:\n",
    "        y_hat[i] = -1\n",
    "# print(y_hat)\n",
    "\n",
    "plt.plot(x_d1[y_hat < 0, 0],  x_d1[y_hat < 0, 1], 'bs')\n",
    "plt.plot(x_d1[y_hat > 0, 0],  x_d1[y_hat > 0, 1], 'ro')"
   ]
  },
  {
   "cell_type": "markdown",
   "metadata": {},
   "source": [
    "### modifying $\\sigma$ (hyperparamater in RBF)"
   ]
  },
  {
   "cell_type": "code",
   "execution_count": 19,
   "metadata": {},
   "outputs": [
    {
     "data": {
      "image/png": "[encoded data removed]",
      "text/plain": [
       "<Figure size 432x288 with 1 Axes>"
      ]
     },
     "metadata": {},
     "output_type": "display_data"
    }
   ],
   "source": [
    "x = x_d1\n",
    "y = y_d1\n",
    "\n",
    "n = x.shape[0]\n",
    "\n",
    "num_iter = 50\n",
    "lam = 0.01\n",
    "\n",
    "learning_rate = 0.0001\n",
    "\n",
    "sigma_set = [0.01,0.1,0.5,1]\n",
    "plot_type_set = ['bo-','go-','ro-','yo-']\n",
    "\n",
    "x_hat = np.hstack([x,np.ones([x.shape[0],1])])\n",
    "\n",
    "projected_x = np.zeros([n,n])\n",
    "for i in range(n):\n",
    "    projected_x[i] = [Gaussian_Kernel(x_hat[i], x_hat[j], sigma) for j in range(n)]\n",
    "\n",
    "alpha = np.random.uniform(size = [n, 1])\n",
    "y = y.reshape(-1,1)\n",
    "\n",
    "K = np.zeros([n, n])\n",
    "\n",
    "for (sigma, plot_type) in zip(sigma_set, plot_type_set):\n",
    "    \n",
    "    alpha_hist = []\n",
    "    loss_hist = []\n",
    "    hingeloss_hist = []\n",
    "\n",
    "    \n",
    "    for i in range(n):\n",
    "        for j in range(n):\n",
    "            K[i, j] = y[i]*y[j]*Gaussian_Kernel(x_hat[i], x_hat[j], sigma)\n",
    "\n",
    "    for t in range(1,num_iter+1):\n",
    "\n",
    "        alpha_update = alpha - learning_rate * (1/(2*lam) * K.dot(alpha)-1)\n",
    "        alpha = alpha_update/alpha_update.max()\n",
    "\n",
    "        loss = 1/(4*lam) * np.dot(np.dot(alpha.T, K), alpha) - np.sum(alpha)\n",
    "        loss_hist.append(loss.reshape(-1))\n",
    "\n",
    "        w = np.zeros([n,1])\n",
    "        for i in range(n):\n",
    "            w += 1/(2*lam) * (alpha[i]*y[i]*projected_x[i]).reshape(-1,1)\n",
    "    \n",
    "    label = 'sigma='+str(sigma)\n",
    "    \n",
    "    plt.plot(loss_hist, plot_type, linewidth=0.5, markersize=1, label=label)\n",
    "    plt.legend()"
   ]
  },
  {
   "cell_type": "markdown",
   "metadata": {},
   "source": [
    "### modifying n (size of dataset)"
   ]
  },
  {
   "cell_type": "code",
   "execution_count": 9,
   "metadata": {},
   "outputs": [
    {
     "data": {
      "image/png": "[encoded data removed]",
      "text/plain": [
       "<Figure size 432x288 with 1 Axes>"
      ]
     },
     "metadata": {},
     "output_type": "display_data"
    }
   ],
   "source": [
    "n_set = [100,200,300,500]\n",
    "plot_type_set = ['bo-','go-','ro-','yo-']\n",
    "\n",
    "for (n, plot_type) in zip(n_set, plot_type_set):\n",
    "\n",
    "    np.random.seed(123)\n",
    "    x_d1 = 3 * (np.random.rand(n, 2)-0.5)\n",
    "    radius = x_d1[:,0]**2 + x_d1[:,1]**2\n",
    "    y_d1 = (radius > 0.7 + 0.1 * np.random.randn(n)) &( radius < 2.2 + 0.1 * np.random.randn(n))\n",
    "    y_d1 = 2 * y_d1 -1\n",
    "\n",
    "    alpha_hist = []\n",
    "    loss_hist = []\n",
    "    hingeloss_hist = []\n",
    "\n",
    "    x = x_d1\n",
    "    y = y_d1\n",
    "\n",
    "    n = x.shape[0]\n",
    "\n",
    "    num_iter = 50\n",
    "    lam = 0.01\n",
    "\n",
    "    learning_rate = 0.0001\n",
    "\n",
    "    sigma = 0.1\n",
    "\n",
    "    x_hat = np.hstack([x,np.ones([x.shape[0],1])])\n",
    "\n",
    "    projected_x = np.zeros([n,n])\n",
    "    for i in range(n):\n",
    "        projected_x[i] = [Gaussian_Kernel(x_hat[i], x_hat[j], sigma) for j in range(n)]\n",
    "\n",
    "    alpha = np.random.uniform(size = [n, 1])\n",
    "    y = y.reshape(-1,1)\n",
    "\n",
    "    K = np.zeros([n, n])\n",
    "\n",
    "    for i in range(n):\n",
    "        for j in range(n):\n",
    "            K[i, j] = y[i]*y[j]*Gaussian_Kernel(x_hat[i], x_hat[j], sigma)\n",
    "\n",
    "    for t in range(1,num_iter+1):\n",
    "\n",
    "        alpha_update = alpha - learning_rate * (1/(2*lam) * K.dot(alpha)-1)\n",
    "        alpha = alpha_update/alpha_update.max()\n",
    "\n",
    "        loss = 1/(4*lam) * np.dot(np.dot(alpha.T, K), alpha) - np.sum(alpha)\n",
    "        loss_hist.append(loss.reshape(-1))\n",
    "\n",
    "        w = np.zeros([n,1])\n",
    "        for i in range(n):\n",
    "            w += 1/(2*lam) * (alpha[i]*y[i]*projected_x[i]).reshape(-1,1)\n",
    "    \n",
    "    label = 'n='+str(n)\n",
    "    plt.plot(loss_hist, plot_type, linewidth=0.5, markersize=1, label=label)\n",
    "    plt.legend()"
   ]
  },
  {
   "cell_type": "code",
   "execution_count": null,
   "metadata": {},
   "outputs": [],
   "source": []
  }
 ],
 "metadata": {
  "kernelspec": {
   "display_name": "Python 3",
   "language": "python",
   "name": "python3"
  },
  "language_info": {
   "codemirror_mode": {
    "name": "ipython",
    "version": 3
   },
   "file_extension": ".py",
   "mimetype": "text/x-python",
   "name": "python",
   "nbconvert_exporter": "python",
   "pygments_lexer": "ipython3",
   "version": "3.6.5"
  }
 },
 "nbformat": 4,
 "nbformat_minor": 1
}
