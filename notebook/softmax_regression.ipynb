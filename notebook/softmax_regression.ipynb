{
 "cells": [
  {
   "cell_type": "code",
   "execution_count": 3,
   "metadata": {},
   "outputs": [],
   "source": [
    "# requirement\n",
    "import numpy as np\n",
    "import matplotlib.pyplot as plt\n",
    "import cvxpy"
   ]
  },
  {
   "cell_type": "code",
   "execution_count": 4,
   "metadata": {},
   "outputs": [],
   "source": [
    "# dataset 5\n",
    "n = 200\n",
    "x_d5 = 3 * (np.random.rand(n, 4) - 0.5)\n",
    "W = np.array([[ 2,  -1, 0.5,],\n",
    "              [-3,   2,   1,],\n",
    "              [ 1,   2,   3]])\n",
    "y_d5 = np.argmax(np.dot(np.hstack([x_d5[:,:2], np.ones((n, 1))]), W.T)\n",
    "                        + 0.5 * np.random.randn(n, 3), axis=1)\n"
   ]
  },
  {
   "cell_type": "code",
   "execution_count": 5,
   "metadata": {},
   "outputs": [
    {
     "name": "stdout",
     "output_type": "stream",
     "text": [
      "final weight: [[ 1.39426126 -1.83204351  1.10080672]\n",
      " [-1.26910387  0.65153142  1.19813444]\n",
      " [ 0.17562534  0.31093559  0.12794364]\n",
      " [ 0.23274898  0.27252722  0.06565543]\n",
      " [-0.59906079 -0.01520003  1.30478634]]\n"
     ]
    },
    {
     "data": {
      "text/plain": [
       "Text(0,0.5,'loss')"
      ]
     },
     "execution_count": 5,
     "metadata": {},
     "output_type": "execute_result"
    },
    {
     "data": {
      "image/png": "[encoded data removed]",
      "text/plain": [
       "<Figure size 432x288 with 1 Axes>"
      ]
     },
     "metadata": {},
     "output_type": "display_data"
    }
   ],
   "source": [
    "x = x_d5\n",
    "y = y_d5\n",
    "\n",
    "num_class = 3\n",
    "y_onehot = np.zeros([n, num_class])\n",
    "for i in range(n):\n",
    "    y_onehot[i, y_d5[i]] += 1\n",
    "\n",
    "w_dimension = x.shape[1]+1\n",
    "lam = 0.01\n",
    "learning_rate = 0.01\n",
    "alpha_base = 1\n",
    "num_iter = 100\n",
    "\n",
    "loss_history = []\n",
    "w_history = []\n",
    "\n",
    "\n",
    "x_hat = np.hstack([x,np.ones([x.shape[0],1])])\n",
    "w = np.random.uniform(size = [w_dimension, num_class])+1\n",
    "y = y.reshape(-1,1)\n",
    "\n",
    "for t in range(1,num_iter+1):\n",
    "    \n",
    "    y_hat = np.dot(x_hat,w)\n",
    "    exp_y_hat = np.exp(y_hat)\n",
    "    p = exp_y_hat / np.sum(exp_y_hat, axis=1).reshape(-1,1)\n",
    "    \n",
    "    loss = -1/n * np.sum(y_onehot * np.log(p)) + lam * np.sum(w*w)\n",
    "    \n",
    "    \n",
    "    w_history.append(w)\n",
    "    loss_history.append(loss)\n",
    "    \n",
    "    direction =  -1 / n * x_hat.T.dot(y_onehot - p) + 2 * lam * w\n",
    "    w -=  direction\n",
    "\n",
    "print(\"final weight:\", w_history[loss_history.index(min(loss_history))])\n",
    "\n",
    "loss_hist_batch = loss_history\n",
    "\n",
    "plt.plot(range(len(loss_history)), loss_hist_batch, 'bo-', linewidth=0.5, markersize=0.5, label='loss')\n",
    "plt.legend()\n",
    "plt.xlabel('t')\n",
    "plt.ylabel('loss')"
   ]
  },
  {
   "cell_type": "code",
   "execution_count": 6,
   "metadata": {},
   "outputs": [
    {
     "name": "stdout",
     "output_type": "stream",
     "text": [
      "final weight: [[ 6.64883882 -4.81775376  3.44957163]\n",
      " [-4.98299686  3.75137676  3.20351981]\n",
      " [ 2.0822146   2.37155703  1.80575588]\n",
      " [ 3.41142413  2.71912246  2.36511651]\n",
      " [-4.09970917 -0.91672578  3.27486753]]\n"
     ]
    },
    {
     "data": {
      "text/plain": [
       "Text(0,0.5,'loss')"
      ]
     },
     "execution_count": 6,
     "metadata": {},
     "output_type": "execute_result"
    },
    {
     "data": {
      "image/png": "[encoded data removed]",
      "text/plain": [
       "<Figure size 432x288 with 1 Axes>"
      ]
     },
     "metadata": {},
     "output_type": "display_data"
    }
   ],
   "source": [
    "x = x_d5\n",
    "y = y_d5\n",
    "\n",
    "num_class = 3\n",
    "y_onehot = np.zeros([n, num_class])\n",
    "for i in range(n):\n",
    "    y_onehot[i, y_d5[i]] += 1\n",
    "\n",
    "w_dimension = x.shape[1]+1\n",
    "lam = 0.01\n",
    "learning_rate = 0.01\n",
    "alpha_base = 1\n",
    "num_iter = 100\n",
    "\n",
    "loss_history = []\n",
    "w_history = []\n",
    "\n",
    "\n",
    "x_hat = np.hstack([x,np.ones([x.shape[0],1])])\n",
    "w = np.random.uniform(size = [w_dimension, num_class])+1\n",
    "y = y.reshape(-1,1)\n",
    "\n",
    "for t in range(1,num_iter+1):\n",
    "    \n",
    "    y_hat = np.dot(x_hat,w)\n",
    "    exp_y_hat = np.exp(y_hat)\n",
    "    p = exp_y_hat / np.sum(exp_y_hat, axis=1).reshape(-1,1)\n",
    "    \n",
    "    loss = -1/n * np.sum(y_onehot * np.log(p)) \n",
    "    \n",
    "    w_history.append(w)\n",
    "    loss_history.append(loss)\n",
    "    \n",
    "    grad =  -1 / n * x_hat.T.dot(y_onehot - p)\n",
    "    \n",
    "    hess = np.zeros([num_class, w_dimension, w_dimension])\n",
    "    for class_index in range(num_class):\n",
    "        hess[class_index] = 1 / n * x_hat.T.dot((p[:, class_index].reshape(-1,1) * (1-p[:, class_index].reshape(-1,1)) * x_hat)) + 2 * lam \n",
    "        w[:, class_index] -= np.linalg.inv(hess[class_index]).dot(grad[:, class_index]) * 1.0/np.sqrt(t+10)\n",
    "        \n",
    "\n",
    "print(\"final weight:\", w_history[loss_history.index(min(loss_history))])\n",
    "\n",
    "loss_hist_newton = loss_history\n",
    "\n",
    "plt.plot(range(len(loss_history)), loss_hist_newton, 'bo-', linewidth=0.5, markersize=0.5, label='loss')\n",
    "plt.legend()\n",
    "plt.xlabel('t')\n",
    "plt.ylabel('loss')"
   ]
  },
  {
   "cell_type": "code",
   "execution_count": 7,
   "metadata": {},
   "outputs": [
    {
     "data": {
      "text/plain": [
       "[<matplotlib.lines.Line2D at 0x1fc5d813710>]"
      ]
     },
     "execution_count": 7,
     "metadata": {},
     "output_type": "execute_result"
    },
    {
     "data": {
      "image/png": "[encoded data removed]",
      "text/plain": [
       "<Figure size 432x288 with 1 Axes>"
      ]
     },
     "metadata": {},
     "output_type": "display_data"
    }
   ],
   "source": [
    "plt.plot(loss_hist_batch, 'bo-', linewidth=0.5, markersize=1, label='seepest')\n",
    "plt.plot(loss_hist_newton, 'ro-', linewidth=0.5, markersize=1, label='newton')\n",
    "plt.legend()"
   ]
  },
  {
   "cell_type": "code",
   "execution_count": 8,
   "metadata": {},
   "outputs": [
    {
     "data": {
      "text/plain": [
       "Text(0,0.5,'diff from the gold loss')"
      ]
     },
     "execution_count": 8,
     "metadata": {},
     "output_type": "execute_result"
    },
    {
     "data": {
      "image/png": "[encoded data removed]",
      "text/plain": [
       "<Figure size 432x288 with 1 Axes>"
      ]
     },
     "metadata": {},
     "output_type": "display_data"
    }
   ],
   "source": [
    "# diff\n",
    "show_iter = 100\n",
    "plt.plot(np.abs(loss_hist_batch[:show_iter] - loss_hist_batch[-1]), 'bo-', linewidth=0.5, markersize=1, label='seepest')\n",
    "plt.plot(np.abs(loss_hist_newton[:show_iter] - loss_hist_newton[-1]), 'ro-', linewidth=0.5, markersize=1, label='newton')\n",
    "plt.legend()\n",
    "plt.yscale('log')\n",
    "plt.xlabel('iter')\n",
    "plt.ylabel('diff from the gold loss')"
   ]
  },
  {
   "cell_type": "code",
   "execution_count": null,
   "metadata": {},
   "outputs": [],
   "source": []
  }
 ],
 "metadata": {
  "kernelspec": {
   "display_name": "Python 3",
   "language": "python",
   "name": "python3"
  },
  "language_info": {
   "codemirror_mode": {
    "name": "ipython",
    "version": 3
   },
   "file_extension": ".py",
   "mimetype": "text/x-python",
   "name": "python",
   "nbconvert_exporter": "python",
   "pygments_lexer": "ipython3",
   "version": "3.6.5"
  }
 },
 "nbformat": 4,
 "nbformat_minor": 1
}
