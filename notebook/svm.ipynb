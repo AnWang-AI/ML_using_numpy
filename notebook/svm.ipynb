{
 "cells": [
  {
   "cell_type": "code",
   "execution_count": 1,
   "metadata": {},
   "outputs": [],
   "source": [
    "# requirement\n",
    "import numpy as np\n",
    "import matplotlib.pyplot as plt\n",
    "import cvxpy"
   ]
  },
  {
   "cell_type": "markdown",
   "metadata": {},
   "source": [
    "We consider the dual of the support vector machine (L2-regularized hinge loss based binary classifier). The original optimization problem of this classification can be represented as\n",
    "\n",
    "$$\\hat{w}=argmin_{w\\in \\mathbb{R}}(\\sum\\limits_{i=1}^{n}max(0,1-y_i w^T x_i)+\\lambda||w||_2^2)$$\n",
    "\n",
    "where $x_i \\in \\mathbb{R}^d$, $w \\in \\mathbb{R}^d$, $y_i \\in {±1}$, and $\\lambda > 0$ denotes $i$-th input variable, the parameter vector, and the label for $i$-th input data, and a coefficient of the regularization term, respectively."
   ]
  },
  {
   "cell_type": "markdown",
   "metadata": {},
   "source": [
    "Equivalent problem:\n",
    "\n",
    "\\begin{align*}\n",
    "&\\min_{w,\\xi}\\,\\, \\mathbf{1}^T \\mathbf{\\xi} + \\lambda \\mathbf{w}^T \\mathbf{w}\\\\\n",
    "&s.t.\\quad\n",
    "\\begin{cases}\n",
    "\\xi_i \\geq 1-y_i \\mathbf{w}^T \\mathbf{x_i} & (i=1,2,3,\\cdots,n)\\\\\n",
    "\\mathbf{\\xi} \\geq 0\n",
    "\\end{cases}\n",
    "\\end{align*}\n",
    "\n",
    "Scaling by $C = \\frac{1}{2\\lambda}>0$,\n",
    "\n",
    "\\begin{align*}\n",
    "&\\min_{w,\\xi}\\,\\, C \\mathbf{1}^T \\mathbf{\\xi} + \\frac{1}{2} \\mathbf{w}^T\\mathbf{w}\\\\\n",
    "&s.t.\\quad\n",
    "\\begin{cases}\n",
    "1-y_i \\mathbf{w}^T \\mathbf{x_i}-\\xi_i \\leq 0 & (i=1,2,3,\\cdots,n)\\\\\n",
    "-\\mathbf{\\xi} \\leq 0\n",
    "\\end{cases}\n",
    "\\end{align*}"
   ]
  },
  {
   "cell_type": "markdown",
   "metadata": {},
   "source": [
    "Lagrange function:\n",
    "$$L(w,\\xi,\\alpha,\\beta) = \\frac{1}{2} \\mathbf{w}^T\\mathbf{w} + C \\mathbf{1}^T \\mathbf{\\xi} + \\sum\\limits_{i=1}^{n}\\alpha_i(1-y_i w^T x_i-\\xi_i)-\\beta^T \\xi$$"
   ]
  },
  {
   "cell_type": "markdown",
   "metadata": {},
   "source": [
    "KKT Condition:\n",
    "\n",
    "\\begin{align*}\n",
    "&\\frac{\\partial L}{\\partial w} = w - \\sum\\limits_{i=1}^{n}\\alpha_i y_i x_i =0 \\\\\n",
    "&\\frac{\\partial L}{\\partial \\xi} = C \\mathbf{1} - \\alpha - \\beta =0\\\\\n",
    "&1-y_i w^T w - \\xi_i \\leq 0 & (i=1,2,3,\\cdots,n) \\\\\n",
    "&-\\xi \\leq 0\\\\\n",
    "&\\alpha_i (1-y_i w^T w - \\xi_i) = 0 & (i=1,2,3,\\cdots,n) \\\\\n",
    "&-\\beta_i \\xi_ i = 0 & (i=1,2,3,\\cdots,n) \\\\\n",
    "&\\alpha \\geq 0 \\\\\n",
    "&\\beta \\geq 0\n",
    "\\end{align*}"
   ]
  },
  {
   "cell_type": "markdown",
   "metadata": {},
   "source": [
    "Lagrange dual function:\n",
    "$$\\hat{L}(\\alpha,\\beta) = \\inf_{w,\\xi}L(w, \\xi, \\alpha, \\beta)$$\n",
    "thus,\n",
    "\\begin{align*}\n",
    "&\\frac{\\partial L}{\\partial w} = w - \\sum\\limits_{i=1}^{n}\\alpha_i y_i x_i &\\Rightarrow &\\hat{w} = \\sum\\limits_{i=1}^{n}\\alpha_i y_i x_i &\\\\\n",
    "&\\frac{\\partial L}{\\partial \\xi} = C \\mathbf{1} - \\alpha - \\beta &\\Rightarrow &\\alpha = C \\mathbf{1} - \\beta &\\Rightarrow \\alpha \\leq \\frac{1}{2\\lambda}\\\\\n",
    "\\end{align*}\n",
    "thus,\n",
    "\\begin{align*}\n",
    "\\hat{L}(\\alpha,\\beta) &= -\\frac{1}{2}\\sum\\limits_{i=1}^{n}\\sum\\limits_{j=1}^{n}\\alpha_i \\alpha_j y_i y_j x_i^T x_j+\\sum\\limits_{i=1}^{n}\\alpha_i\\\\\n",
    "&= -\\frac{1}{2} \\alpha^T K \\alpha + \\alpha^T \\mathbf{1}\n",
    "\\end{align*}\n",
    "where $K \\in \\mathbb{R}^{n×n}$ denotes a symmetric square matrix, and its $i$-th row and $j$-th column\n",
    "element can be represented by $y_iy_jx_i^T x_j$ ."
   ]
  },
  {
   "cell_type": "markdown",
   "metadata": {},
   "source": [
    "let $\\alpha' = 2\\lambda\\alpha$, \n",
    "\\begin{align*}\n",
    "&\\min_{\\alpha}\\,\\, \\hat{L}(\\alpha,\\beta) = -\\frac{1}{2} \\alpha^T K \\alpha + \\alpha^T \\mathbf{1}\\\\\n",
    "&s.t.\\quad\n",
    "0 \\leq \\alpha' \\leq 1\n",
    "\\end{align*}"
   ]
  },
  {
   "cell_type": "markdown",
   "metadata": {},
   "source": [
    "In addition,\n",
    "$$\\hat{w} = \\frac{1}{2\\lambda}\\sum\\limits_{i=1}^{n}\\alpha_i y_i x_i$$"
   ]
  },
  {
   "cell_type": "code",
   "execution_count": 2,
   "metadata": {},
   "outputs": [],
   "source": [
    "# dataset 4\n",
    "n = 200\n",
    "x_d4 = 3 * (np.random.rand(n, 4) - 0.5)\n",
    "y_d4 = (2 * x_d4[:, 0] - 1 * x_d4[:,1] + 0.5 + 0.5 * np.random.randn(n)) > 0\n",
    "y_d4 = 2 * y_d4 -1"
   ]
  },
  {
   "cell_type": "code",
   "execution_count": 78,
   "metadata": {},
   "outputs": [
    {
     "data": {
      "text/plain": [
       "<matplotlib.legend.Legend at 0x22cf94a3dd8>"
      ]
     },
     "execution_count": 78,
     "metadata": {},
     "output_type": "execute_result"
    },
    {
     "data": {
      "image/png": "[encoded data removed]",
      "text/plain": [
       "<Figure size 432x288 with 1 Axes>"
      ]
     },
     "metadata": {},
     "output_type": "display_data"
    }
   ],
   "source": [
    "alpha_hist = []\n",
    "loss_hist = []\n",
    "hingeloss_hist = []\n",
    "\n",
    "x = x_d4\n",
    "y = y_d4\n",
    "\n",
    "n = x.shape[0]\n",
    "\n",
    "num_iter = 50\n",
    "lam = 0.01\n",
    "\n",
    "learning_rate = 0.0001\n",
    "\n",
    "x_hat = np.hstack([x,np.ones([x.shape[0],1])])\n",
    "\n",
    "alpha = np.random.uniform(size = [n, 1])\n",
    "y = y.reshape(-1,1)\n",
    "\n",
    "K = np.zeros([n, n])\n",
    "\n",
    "for i in range(n):\n",
    "    for j in range(n):\n",
    "        K[i, j] = y[i]*y[j]*np.dot(x_hat[i].T, x_hat[j])\n",
    "\n",
    "for t in range(1,num_iter+1):\n",
    "    \n",
    "    alpha = np.minimum(np.maximum( alpha - learning_rate * (1/(2*lam) * K.dot(alpha)-1), 0), 1)\n",
    "    \n",
    "    loss = 1/(4*lam) * np.dot(np.dot(alpha.T, K), alpha) - np.sum(alpha)\n",
    "    loss_hist.append(loss.reshape(-1))\n",
    "    \n",
    "    w = np.zeros([x_hat.shape[1],1])\n",
    "    for i in range(n):\n",
    "        w += 1/(2*lam) * (alpha[i]*y[i]*x_hat[i]).reshape(-1,1)\n",
    "    hingeloss = +1.0/n * np.sum(np.maximum(np.zeros(len(y)),1-y*np.dot(x_hat, w))) + lam * np.sum(w*w)\n",
    "    hingeloss_hist.append(hingeloss)\n",
    "        \n",
    "plt.plot(loss_hist, 'bo-', linewidth=0.5, markersize=1, label='loss')\n",
    "plt.plot(hingeloss_hist, 'ro-', linewidth=0.5, markersize=1, label='hingeloss')\n",
    "plt.legend()"
   ]
  },
  {
   "cell_type": "code",
   "execution_count": 80,
   "metadata": {},
   "outputs": [
    {
     "data": {
      "text/plain": [
       "<matplotlib.legend.Legend at 0x22cf95825c0>"
      ]
     },
     "execution_count": 80,
     "metadata": {},
     "output_type": "execute_result"
    },
    {
     "data": {
      "image/png": "[encoded data removed]",
      "text/plain": [
       "<Figure size 432x288 with 1 Axes>"
      ]
     },
     "metadata": {},
     "output_type": "display_data"
    }
   ],
   "source": [
    "alpha_hist = []\n",
    "loss_hist = []\n",
    "hingeloss_hist = []\n",
    "\n",
    "x = x_d4\n",
    "y = y_d4\n",
    "\n",
    "n = x.shape[0]\n",
    "\n",
    "num_iter = 100\n",
    "lam = 0.001\n",
    "\n",
    "x_hat = np.hstack([x,np.ones([x.shape[0],1])])\n",
    "\n",
    "alpha = np.random.uniform(size = [n, 1])\n",
    "y = y.reshape(-1,1)\n",
    "\n",
    "K = np.zeros([n, n])\n",
    "\n",
    "for i in range(n):\n",
    "    for j in range(n):\n",
    "        K[i, j] = y[i]*y[j]*np.dot(x_hat[i].T, x_hat[j])\n",
    "\n",
    "for t in range(1,num_iter+1):\n",
    "    \n",
    "    loss = 1/2 * np.dot(np.dot(alpha.T, K), alpha) - np.sum(alpha)\n",
    "    loss_hist.append(loss.reshape(-1))\n",
    "    \n",
    "    w = np.zeros([x_hat.shape[1],1])\n",
    "    for i in range(n):\n",
    "        w += (alpha[i]*y[i]*x_hat[i]).reshape(-1,1)\n",
    "    hingeloss = np.sum(np.maximum(np.zeros(len(y)),1-y*np.dot(x_hat, w))) + lam * np.sum(w*w)\n",
    "    hingeloss_hist.append(hingeloss)\n",
    "    \n",
    "    alpha = np.maximum( alpha - lam * (K.dot(alpha)-1), 0)\n",
    "\n",
    "plt.plot(loss_hist, 'bo-', linewidth=0.5, markersize=1, label='loss')\n",
    "plt.plot(hingeloss_hist, 'ro-', linewidth=0.5, markersize=1, label='hingeloss')\n",
    "plt.legend()"
   ]
  },
  {
   "cell_type": "code",
   "execution_count": null,
   "metadata": {},
   "outputs": [],
   "source": []
  }
 ],
 "metadata": {
  "kernelspec": {
   "display_name": "Python 3",
   "language": "python",
   "name": "python3"
  },
  "language_info": {
   "codemirror_mode": {
    "name": "ipython",
    "version": 3
   },
   "file_extension": ".py",
   "mimetype": "text/x-python",
   "name": "python",
   "nbconvert_exporter": "python",
   "pygments_lexer": "ipython3",
   "version": "3.6.5"
  }
 },
 "nbformat": 4,
 "nbformat_minor": 1
}
