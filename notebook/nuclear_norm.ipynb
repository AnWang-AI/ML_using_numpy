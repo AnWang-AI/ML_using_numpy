{
 "cells": [
  {
   "cell_type": "markdown",
   "metadata": {},
   "source": [
    "# Problem 6"
   ]
  },
  {
   "cell_type": "markdown",
   "metadata": {},
   "source": [
    "1. Describe the definition of the nuclear norm of a matrix by investigating it from www."
   ]
  },
  {
   "cell_type": "markdown",
   "metadata": {},
   "source": [
    "nuclear norm of a matric\n",
    "$$||X||_{*} = tr(\\sqrt{X^T X})$$"
   ]
  },
  {
   "cell_type": "markdown",
   "metadata": {},
   "source": [
    "2. Define the proximal operation with the nuclear norm. (Hint: Use singular value decomposition.)"
   ]
  },
  {
   "cell_type": "markdown",
   "metadata": {},
   "source": [
    "Defining $\\sigma(X)$ as a vector of the Singular Values of $X$.\n",
    "\n",
    "Then the Proximal Operator Calculation is as following:\n",
    "\n",
    "1. Apply the SVD on $A: A→Udiag(\\sigma(A))V^T$.\n",
    "2. Extract the vector of Singular Values $\\sigma(A)$.\n",
    "3. Calculate the Proximal Operator of the extracted vector using Vector Norm p: $\\hat{\\sigma}(A)=Prox_{\\lambda||⋅||_p}(\\sigma(A))= argmin_x\\frac{1}{2}||x-\\sigma(A)||_2^2+\\lambda||x||_p$.\n",
    "4. Return the Proximal of the Matrix Norm: $\\hat{\\sigma}(A)=Prox_{\\lambda||⋅||_p}(A)=Udiag(\\hat{\\sigma}(A))V^T$."
   ]
  },
  {
   "cell_type": "code",
   "execution_count": null,
   "metadata": {},
   "outputs": [],
   "source": []
  }
 ],
 "metadata": {
  "kernelspec": {
   "display_name": "Python 3",
   "language": "python",
   "name": "python3"
  },
  "language_info": {
   "codemirror_mode": {
    "name": "ipython",
    "version": 3
   },
   "file_extension": ".py",
   "mimetype": "text/x-python",
   "name": "python",
   "nbconvert_exporter": "python",
   "pygments_lexer": "ipython3",
   "version": "3.6.5"
  }
 },
 "nbformat": 4,
 "nbformat_minor": 2
}
